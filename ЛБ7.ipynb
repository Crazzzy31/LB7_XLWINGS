{
 "cells": [
  {
   "cell_type": "markdown",
   "metadata": {},
   "source": [
    "# Работа с Excel"
   ]
  },
  {
   "cell_type": "markdown",
   "metadata": {},
   "source": [
    "## Лабораторная работа 7"
   ]
  },
  {
   "cell_type": "code",
   "execution_count": 46,
   "metadata": {},
   "outputs": [],
   "source": [
    "import pandas as pd\n",
    "import openpyxl\n",
    "import xlwings as xw\n",
    "from openpyxl import load_workbook\n",
    "import numpy as np\n",
    "from xlwings.constants import AutoFillType\n",
    "import win32api"
   ]
  },
  {
   "cell_type": "markdown",
   "metadata": {},
   "source": [
    "1. Загрузите данные из файлов `reviews_sample.csv` (__ЛР2__) и `recipes_sample_with_tags_ingredients.csv` (__ЛР5__) в виде `pd.DataFrame`. Обратите внимание на корректное считывание столбца(ов) с индексами. Оставьте в таблице с рецептами следующие столбцы: `id`, `name`, `minutes`, `submitted`, `description`, `n_ingredients`"
   ]
  },
  {
   "cell_type": "code",
   "execution_count": 35,
   "metadata": {},
   "outputs": [
    {
     "name": "stdout",
     "output_type": "stream",
     "text": [
      "             id     user_id  recipe_id        date  rating  \\\n",
      "0        370476       21752      57993  2003-05-01       5   \n",
      "1        624300      431813     142201  2007-09-16       5   \n",
      "2        187037      400708     252013  2008-01-10       4   \n",
      "3        706134  2001852463     404716  2017-12-11       5   \n",
      "4        312179       95810     129396  2008-03-14       5   \n",
      "...         ...         ...        ...         ...     ...   \n",
      "126691  1013457     1270706     335534  2009-05-17       4   \n",
      "126692   158736     2282344       8701  2012-06-03       0   \n",
      "126693  1059834      689540     222001  2008-04-08       5   \n",
      "126694   453285  2000242659     354979  2015-06-02       5   \n",
      "126695   691207      463435     415599  2010-09-30       5   \n",
      "\n",
      "                                                   review  \n",
      "0       Last week whole sides of frozen salmon fillet ...  \n",
      "1       So simple and so tasty!  I used a yellow capsi...  \n",
      "2       Very nice breakfast HH, easy to make and yummy...  \n",
      "3       These are a favorite for the holidays and so e...  \n",
      "4       Excellent soup!  The tomato flavor is just gre...  \n",
      "...                                                   ...  \n",
      "126691  This recipe was great! I made it last night. I...  \n",
      "126692  This recipe is outstanding. I followed the rec...  \n",
      "126693  Well, we were not a crowd but it was a fabulou...  \n",
      "126694  I have been a steak eater and dedicated BBQ gr...  \n",
      "126695  Wonderful and simple to prepare seasoning blen...  \n",
      "\n",
      "[126696 rows x 6 columns] \n",
      "\n",
      "                                                name      id  minutes  \\\n",
      "0             george s at the cove  black bean soup   44123       90   \n",
      "1                healthy for them  yogurt popsicles   67664       10   \n",
      "2                      i can t believe it s spinach   38798       30   \n",
      "3                              italian  gut busters   35173       45   \n",
      "4          love is in the air  beef fondue   sauces   84797       25   \n",
      "...                                             ...     ...      ...   \n",
      "29995  zurie s holey rustic olive and cheddar bread  267661       80   \n",
      "29996          zwetschgenkuchen  bavarian plum cake  386977      240   \n",
      "29997   zwiebelkuchen   southwest german onion cake  103312       75   \n",
      "29998                                   zydeco soup  486161       60   \n",
      "29999        cookies by design   cookies on a stick  298512       29   \n",
      "\n",
      "        submitted                                        description  \\\n",
      "0      2002-10-25  an original recipe created by chef scott meska...   \n",
      "1      2003-07-26  my children and their friends ask for my homem...   \n",
      "2      2002-08-29            these were so go, it surprised even me.   \n",
      "3      2002-07-27  my sister-in-law made these for us at a family...   \n",
      "4      2004-02-23  i think a fondue is a very romantic casual din...   \n",
      "...           ...                                                ...   \n",
      "29995  2007-11-25  this is based on a french recipe but i changed...   \n",
      "29996  2009-08-24  this is a traditional fresh plum cake, thought...   \n",
      "29997  2004-11-03  this is a traditional late summer early fall s...   \n",
      "29998  2012-08-29  this is a delicious soup that i originally fou...   \n",
      "29999  2008-04-15  i've heard of the 'cookies by design' company,...   \n",
      "\n",
      "       n_ingredients  \n",
      "0               18.0  \n",
      "1                3.0  \n",
      "2                8.0  \n",
      "3                9.0  \n",
      "4               12.0  \n",
      "...              ...  \n",
      "29995           10.0  \n",
      "29996           11.0  \n",
      "29997           13.0  \n",
      "29998           22.0  \n",
      "29999           10.0  \n",
      "\n",
      "[30000 rows x 6 columns]\n"
     ]
    }
   ],
   "source": [
    "reviews = pd.read_csv('C:/lb7/reviews_sample.csv')\n",
    "recipes = pd.read_csv('C:/lb7/recipes_sample_with_tags_ingredients.csv')\n",
    "recipes = recipes.drop(columns=['contributor_id', 'n_steps', 'ingredients'])\n",
    "print(reviews, '\\n\\n', recipes)"
   ]
  },
  {
   "cell_type": "markdown",
   "metadata": {},
   "source": [
    "2. Случайным образом выберите 5% строк из каждой таблицы и сохраните две таблицы на разные листы в один файл `recipes.xlsx`. Дайте листам названия \"Рецепты\" и \"Отзывы\", соответствующие содержанию таблиц. "
   ]
  },
  {
   "cell_type": "code",
   "execution_count": 36,
   "metadata": {},
   "outputs": [
    {
     "name": "stdout",
     "output_type": "stream",
     "text": [
      "             id  user_id  recipe_id        date  rating  \\\n",
      "27172   1108730   129958      30358  2006-10-18       5   \n",
      "31641    681112  1196631     108248  2011-05-12       1   \n",
      "94398    433060   126440      28648  2005-01-17       5   \n",
      "50337     34025   765619       7491  2010-12-23       5   \n",
      "124566   596119   464327     305210  2010-03-24       5   \n",
      "...         ...      ...        ...         ...     ...   \n",
      "16068    111947   126440      81347  2009-09-09       4   \n",
      "14537   1123720   402790      57679  2008-05-14       5   \n",
      "93613    883752    65803      52282  2005-10-21       5   \n",
      "122429  1042901   594704      17073  2009-01-08       5   \n",
      "107546   215595   209747     127262  2005-10-18       5   \n",
      "\n",
      "                                                   review  \n",
      "27172   I have been cooking pasta like this for a coup...  \n",
      "31641   i have no idea what went wrong. i followed the...  \n",
      "94398   I halved the recipe and cooked it for 8 min. a...  \n",
      "50337   Delicious! My entire family loved this recipe....  \n",
      "124566  Such a great tasting cupcake. They didn't rise...  \n",
      "...                                                   ...  \n",
      "16068   Good banana cake.  Very quick to put together ...  \n",
      "14537   I love this pie and its uber easy to make. Its...  \n",
      "93613   Excellent! You managed to incorporate some of ...  \n",
      "122429  I can't believe I never left the review.  You ...  \n",
      "107546  This was so good! I totally ate too much! I us...  \n",
      "\n",
      "[6334 rows x 6 columns] \n",
      "\n",
      "                                                     name      id  minutes  \\\n",
      "1090                                  apricot nut spread  259983      495   \n",
      "17630                          middle eastern tuna salad  314012        5   \n",
      "25305  spicy barbecued pork tenderloins with garlic s...  155271      395   \n",
      "22455                                    reuben sandwich   13220       10   \n",
      "23794                                     seasoned flour  118226        5   \n",
      "...                                                  ...     ...      ...   \n",
      "7698            cottage dill bread for the bread machine   47084      185   \n",
      "3594                             braised beef short ribs  414038      155   \n",
      "16314                   liz s vegetarian oatmeal patties  409050       45   \n",
      "25297           spicy avocado soup with chicken and lime  281283       30   \n",
      "2079                  bam s beefy cabbage vegetable soup  433644       60   \n",
      "\n",
      "        submitted                                        description  \\\n",
      "1090   2007-10-18  from simple & delicious magazine, this sweet a...   \n",
      "17630  2008-07-15  a delicious tuna salad made with yogurt instea...   \n",
      "25305  2006-02-08  if you love garlic then this one is for you! p...   \n",
      "22455  2001-10-25                                                NaN   \n",
      "23794  2005-04-20  for convenience, prepare this to use for dredg...   \n",
      "...           ...                                                ...   \n",
      "7698   2002-11-20                                                NaN   \n",
      "3594   2010-02-22  these dutch oven ribs are so delicious. got th...   \n",
      "16314  2010-01-18  a delicious and full-flavored meat alternative...   \n",
      "25297  2008-01-23  this is a recipe i've modified, originally fro...   \n",
      "2079   2010-07-28  this is a first attempt soup and a mish-mash o...   \n",
      "\n",
      "       n_ingredients  \n",
      "1090             4.0  \n",
      "17630            9.0  \n",
      "25305            9.0  \n",
      "22455            5.0  \n",
      "23794           11.0  \n",
      "...              ...  \n",
      "7698             9.0  \n",
      "3594             8.0  \n",
      "16314            7.0  \n",
      "25297           14.0  \n",
      "2079            14.0  \n",
      "\n",
      "[1500 rows x 6 columns]\n"
     ]
    }
   ],
   "source": [
    "num_reviews = int(reviews.shape[0])\n",
    "num_recipes = int(recipes.shape[0])\n",
    "n_reviews = num_reviews * 0.05\n",
    "n_recipes = num_recipes * 0.05\n",
    "\n",
    "reviews_sampels = reviews.sample(n=int(n_reviews))\n",
    "recipes_sampels = recipes.sample(n=int(n_recipes))\n",
    "\n",
    "print(reviews_sampels, '\\n\\n', recipes_sampels)\n",
    "\n",
    "writer = pd.ExcelWriter('recipes2.xlsx')\n",
    "reviews_sampels.to_excel(writer, 'Отзывы')\n",
    "recipes_sampels.to_excel(writer, 'Рецепты')\n",
    "writer.save()"
   ]
  },
  {
   "cell_type": "markdown",
   "metadata": {},
   "source": [
    "3. Используя `xlwings`, добавьте на лист `Рецепты` столбец `seconds_assign`, показывающий время выполнения рецепта в секундах. Выполните задание при помощи присваивания массива значений диапазону ячеек."
   ]
  },
  {
   "cell_type": "code",
   "execution_count": 37,
   "metadata": {},
   "outputs": [
    {
     "name": "stdout",
     "output_type": "stream",
     "text": [
      "[29700   300 23700 ...  2700  1800  3600]\n"
     ]
    }
   ],
   "source": [
    "recipes_list = (recipes_sampels['minutes'] * 60).to_numpy()\n",
    "\n",
    "print(recipes_list)\n",
    "\n",
    "wb = xw.Book('recipes2.xlsx')\n",
    "wb.sheets[1].activate()\n",
    "wb.sheets[1].range('H2').options(transpose=True).value = recipes_list\n",
    "wb.sheets[1].range('H1').value = 'seconds_assing'"
   ]
  },
  {
   "cell_type": "markdown",
   "metadata": {},
   "source": [
    "4. Используя `xlwings`, добавьте на лист `Рецепты` столбец `seconds_formula`, показывающий время выполнения рецепта в секундах. Выполните задание при помощи формул Excel."
   ]
  },
  {
   "cell_type": "code",
   "execution_count": 38,
   "metadata": {},
   "outputs": [
    {
     "name": "stdout",
     "output_type": "stream",
     "text": [
      "$D$2:$D$1501\n"
     ]
    },
    {
     "data": {
      "text/plain": [
       "True"
      ]
     },
     "execution_count": 38,
     "metadata": {},
     "output_type": "execute_result"
    }
   ],
   "source": [
    "wb = xw.Book('recipes2.xlsx')\n",
    "wb.sheets[1].activate()\n",
    "wb.sheets[1].range('H2').options(transpose=True).value = recipes_list\n",
    "wb.sheets[1].range('H1').value = 'seconds_assing'\n",
    "rng_name = xw.Range('D2').expand('down').address\n",
    "print(rng_name)\n",
    "xw.Range('I1').value = 'seconds_formula'\n",
    "xw.Range('I2').formula = f'=D2 * 60'\n",
    "xw.Range('I2').options(transpose=True).api.AutoFill(xw.Range('I2:I1501').api, AutoFillType.xlFillDefault)"
   ]
  },
  {
   "cell_type": "markdown",
   "metadata": {},
   "source": [
    "5. Добавьте на лист `Рецепты`  столбец `n_reviews`, содержащий кол-во отзывов для этого рецепта. Выполните задание при помощи формул Excel."
   ]
  },
  {
   "cell_type": "code",
   "execution_count": null,
   "metadata": {},
   "outputs": [],
   "source": [
    "wb = xw.Book('recipes2.xlsx')\n",
    "sheet = wb.sheets['Рецепты']\n",
    "xw.Range('J1').value = 'n_reviews'\n",
    "xw.Range('J2').formula = f'=СЧЁТЕСЛИ(Отзывы!D$2:Отзывы!D$6335;Рецепты!C2)'\n",
    "xw.Range('J2').options(transpose=True).api.AutoFill(xw.Range('J2:J1501').api, AutoFillType.xlFillDefault)"
   ]
  },
  {
   "cell_type": "markdown",
   "metadata": {},
   "source": [
    "6. Сделайте названия всех добавленных столбцов полужирными и выровняйте по центру ячейки."
   ]
  },
  {
   "cell_type": "code",
   "execution_count": 51,
   "metadata": {},
   "outputs": [],
   "source": [
    "wb = xw.Book('recipes2.xlsx')\n",
    "sheet = wb.sheets['Рецепты']\n",
    "headers_range = sheet.range('h1').expand('right')\n",
    "headers_range.api.Font.Bold = True\n",
    "headers_range.api.HorizontalAlignment = xw.constants.HAlign.xlHAlignCenter"
   ]
  },
  {
   "cell_type": "markdown",
   "metadata": {},
   "source": [
    "7. Раскрасьте ячейки столбца `minutes` в соответствии со следующим правилом: если рецепт выполняется быстрее 5 минут, то цвет - зеленый; от 5 до 10 минут - жёлтый; и больше 10 - красный."
   ]
  },
  {
   "cell_type": "code",
   "execution_count": 54,
   "metadata": {},
   "outputs": [],
   "source": [
    "workbook = xw.Book('recipes2.xlsx')\n",
    "sheet = workbook.sheets['Рецепты']\n",
    "minutes_range = sheet.range('D2:D1501')\n",
    "for cell in minutes_range:\n",
    "    if cell.value < 5:\n",
    "        cell.color = (0, 255, 0)  # зеленый цвет\n",
    "    elif 5 <= cell.value < 10:\n",
    "        cell.color = (255, 255, 0)  # желтый цвет\n",
    "    else:\n",
    "        cell.color = (255, 0, 0)  # красный цвет"
   ]
  },
  {
   "cell_type": "markdown",
   "metadata": {},
   "source": [
    "8. Напишите функцию `validate()`, которая проверяет соответствие всех строк из листа `Отзывы` следующим правилам:\n",
    "    * Рейтинг - это число от 0 до 5 включительно\n",
    "    * Соответствующий рецепт имеется на листе `Рецепты`\n",
    "    \n",
    "В случае несоответствия этим правилам, выделите строку красным цветом"
   ]
  },
  {
   "cell_type": "code",
   "execution_count": null,
   "metadata": {},
   "outputs": [],
   "source": [
    "def validate():\n",
    "    # Открываем книгу\n",
    "    wb = xw.Book('recipes2.xlsx')\n",
    "    # Получаем доступ к листам\n",
    "    reviews_sheet = wb.sheets['Отзывы']\n",
    "    recipes_sheet = wb.sheets['Рецепты']\n",
    "    # Определяем последнюю строку с данными в листах\n",
    "    last_row_reviews = reviews_sheet.range('A' + str(reviews_sheet.cells.last_cell.row)).end('up').row\n",
    "    last_row_recipes = recipes_sheet.range('A' + str(recipes_sheet.cells.last_cell.row)).end('up').row\n",
    "    # Определяем диапазоны для рейтингов и названий рецептов\n",
    "    ratings_range = reviews_sheet.range('F2:F' + str(last_row_reviews))\n",
    "    recipes_range = reviews_sheet.range('D2:D' + str(last_row_reviews))\n",
    "    # Проходимся по каждой строке из диапазона рейтингов\n",
    "    for i, rating_cell in enumerate(ratings_range):\n",
    "        rating = rating_cell.value\n",
    "        # Проверяем, что рейтинг в диапазоне от 0 до 5\n",
    "        if rating < 0 or rating > 5:\n",
    "            reviews_sheet.range('A' + str(i+2)).color = (255, 0, 0)\n",
    "        else:\n",
    "            # Проверяем, что соответствующий рецепт имеется на листе Рецепты\n",
    "            recipe_name = recipes_range[i].value\n",
    "            recipe_exists = False\n",
    "            for j in range(2, last_row_recipes+1):\n",
    "                if recipes_sheet.range('C'+str(j)).value == recipe_name:\n",
    "                    recipe_exists = True\n",
    "                    break\n",
    "            if not recipe_exists:\n",
    "                reviews_sheet.range('A' + str(i+2)).color = (255, 0, 0)\n",
    "validate()"
   ]
  },
  {
   "cell_type": "code",
   "execution_count": null,
   "metadata": {},
   "outputs": [],
   "source": []
  }
 ],
 "metadata": {
  "kernelspec": {
   "display_name": "Python 3 (ipykernel)",
   "language": "python",
   "name": "python3"
  },
  "language_info": {
   "codemirror_mode": {
    "name": "ipython",
    "version": 3
   },
   "file_extension": ".py",
   "mimetype": "text/x-python",
   "name": "python",
   "nbconvert_exporter": "python",
   "pygments_lexer": "ipython3",
   "version": "3.9.13"
  }
 },
 "nbformat": 4,
 "nbformat_minor": 4
}
